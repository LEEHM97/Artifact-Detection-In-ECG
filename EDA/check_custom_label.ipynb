{
 "cells": [
  {
   "cell_type": "code",
   "execution_count": 6,
   "metadata": {},
   "outputs": [],
   "source": [
    "import pickle\n",
    "\n",
    "import matplotlib.pyplot as plt\n",
    "import pandas as pd\n",
    "import numpy as np\n",
    "\n",
    "from ipywidgets import interactive"
   ]
  },
  {
   "cell_type": "code",
   "execution_count": 7,
   "metadata": {},
   "outputs": [
    {
     "name": "stderr",
     "output_type": "stream",
     "text": [
      "/var/folders/5h/c3csyshj7klgfmqq966l209m0000gn/T/ipykernel_10697/777679395.py:2: DeprecationWarning: numpy.core.numeric is deprecated and has been renamed to numpy._core.numeric. The numpy._core namespace contains private NumPy internals and its use is discouraged, as NumPy internals can change without warning in any release. In practice, most real-world usage of numpy.core is to access functionality in the public NumPy API. If that is the case, use the public NumPy API. If not, you are using NumPy internals. If you would still like to access an internal attribute, use numpy._core.numeric._frombuffer.\n",
      "  signal = pickle.load(f)\n",
      "/var/folders/5h/c3csyshj7klgfmqq966l209m0000gn/T/ipykernel_10697/777679395.py:5: DeprecationWarning: numpy.core.numeric is deprecated and has been renamed to numpy._core.numeric. The numpy._core namespace contains private NumPy internals and its use is discouraged, as NumPy internals can change without warning in any release. In practice, most real-world usage of numpy.core is to access functionality in the public NumPy API. If that is the case, use the public NumPy API. If not, you are using NumPy internals. If you would still like to access an internal attribute, use numpy._core.numeric._frombuffer.\n",
      "  label = pickle.load(f)\n"
     ]
    }
   ],
   "source": [
    "with open(\"../dataset/Signal_Train.pkl\", 'rb') as f:\n",
    "    signal = pickle.load(f)\n",
    "\n",
    "with open(\"../dataset/Target_Train.pkl\", 'rb') as f:\n",
    "    label = pickle.load(f)\n",
    "\n",
    "label = label.Target.astype(int).to_list()\n",
    "\n",
    "df = pd.read_csv(\"../dataset/custom_label_merge.csv\")\n",
    "df = df.drop(columns=['index'])"
   ]
  },
  {
   "cell_type": "code",
   "execution_count": 8,
   "metadata": {},
   "outputs": [
    {
     "data": {
      "text/plain": [
       "custom_label\n",
       "a               1080\n",
       "b                728\n",
       "d                461\n",
       "c                131\n",
       "Name: count, dtype: int64"
      ]
     },
     "execution_count": 8,
     "metadata": {},
     "output_type": "execute_result"
    }
   ],
   "source": [
    "df.value_counts()"
   ]
  },
  {
   "cell_type": "markdown",
   "metadata": {},
   "source": [
    "# 전체 데이터 확인"
   ]
  },
  {
   "cell_type": "code",
   "execution_count": 2,
   "metadata": {},
   "outputs": [
    {
     "ename": "NameError",
     "evalue": "name 'df' is not defined",
     "output_type": "error",
     "traceback": [
      "\u001b[0;31m---------------------------------------------------------------------------\u001b[0m",
      "\u001b[0;31mNameError\u001b[0m                                 Traceback (most recent call last)",
      "Cell \u001b[0;32mIn[2], line 3\u001b[0m\n\u001b[1;32m      1\u001b[0m \u001b[38;5;66;03m# Total\u001b[39;00m\n\u001b[0;32m----> 3\u001b[0m custom_label \u001b[38;5;241m=\u001b[39m \u001b[43mdf\u001b[49m[\u001b[38;5;124m'\u001b[39m\u001b[38;5;124mcustom_label\u001b[39m\u001b[38;5;124m'\u001b[39m]\u001b[38;5;241m.\u001b[39mvalues\n\u001b[1;32m      5\u001b[0m \u001b[38;5;28;01mdef\u001b[39;00m \u001b[38;5;21mshow_signal\u001b[39m(index\u001b[38;5;241m=\u001b[39m\u001b[38;5;241m0\u001b[39m):\n\u001b[1;32m      6\u001b[0m     signal_columns \u001b[38;5;241m=\u001b[39m signal[index]\u001b[38;5;241m.\u001b[39mcolumns\u001b[38;5;241m.\u001b[39mto_list()\n",
      "\u001b[0;31mNameError\u001b[0m: name 'df' is not defined"
     ]
    }
   ],
   "source": [
    "# Total\n",
    "\n",
    "custom_label = df['custom_label'].values\n",
    "\n",
    "def show_signal(index=0):\n",
    "    signal_columns = signal[index].columns.to_list()\n",
    "\n",
    "    fig, axes = plt.subplots(6, 2, figsize=(20, 11))\n",
    "    fig.suptitle(f\"real_label: {label[index]} / custom_label:{custom_label[index]}\", fontsize=16, color='red')\n",
    "\n",
    "    for row in range(6):\n",
    "        for col in range(2):\n",
    "            i = row * 2 + col\n",
    "            ax = axes[row][col]\n",
    "\n",
    "            ax.plot(signal[index][signal_columns[i]])\n",
    "            ax.set(title=f\"{signal_columns[i]}\")\n",
    "\n",
    "    plt.tight_layout()\n",
    "    plt.show()\n",
    "\n",
    "interactive_plot = interactive(show_signal, index=(0, len(signal), 1))\n",
    "display(interactive_plot)"
   ]
  },
  {
   "cell_type": "markdown",
   "metadata": {},
   "source": [
    "# 그룹별 데이터 확인"
   ]
  },
  {
   "cell_type": "code",
   "execution_count": 29,
   "metadata": {},
   "outputs": [],
   "source": [
    "a_df = df[(df['custom_label'] == 'a')]\n",
    "b_df = df[(df['custom_label'] == 'b')]\n",
    "c_df = df[(df['custom_label'] == 'c')]\n",
    "d_df = df[(df['custom_label'] == 'd')]"
   ]
  },
  {
   "cell_type": "code",
   "execution_count": 30,
   "metadata": {},
   "outputs": [],
   "source": [
    "a_index = a_df.index.to_list()\n",
    "b_index = b_df.index.to_list()\n",
    "c_index = c_df.index.to_list()\n",
    "d_index = d_df.index.to_list()"
   ]
  },
  {
   "cell_type": "code",
   "execution_count": 42,
   "metadata": {},
   "outputs": [],
   "source": [
    "a_group = []\n",
    "b_group = []\n",
    "c_group = []\n",
    "d_group = []\n",
    "\n",
    "for i in range(len(signal)):\n",
    "    if i in a_index:\n",
    "        a_group.append(signal[i])\n",
    "\n",
    "    elif i in b_index:\n",
    "        b_group.append(signal[i])\n",
    "\n",
    "    elif i in c_index:\n",
    "        c_group.append(signal[i])\n",
    "\n",
    "    else:\n",
    "        d_group.append(signal[i])"
   ]
  },
  {
   "cell_type": "code",
   "execution_count": 59,
   "metadata": {},
   "outputs": [
    {
     "data": {
      "application/vnd.jupyter.widget-view+json": {
       "model_id": "18f7484c7dfb4d92a33dee51175f7029",
       "version_major": 2,
       "version_minor": 0
      },
      "text/plain": [
       "interactive(children=(IntSlider(value=0, description='index', max=728), Output()), _dom_classes=('widget-inter…"
      ]
     },
     "metadata": {},
     "output_type": "display_data"
    }
   ],
   "source": [
    "# b group\n",
    "\n",
    "\n",
    "def show_signal(index=0):\n",
    "    signal_columns = b_group[index].columns.to_list()\n",
    "\n",
    "    fig, axes = plt.subplots(6, 2, figsize=(20, 11))\n",
    "    fig.suptitle(f\"Index {b_index[index]}\", fontsize=16, color='red')\n",
    "\n",
    "    for row in range(6):\n",
    "        for col in range(2):\n",
    "            i = row * 2 + col\n",
    "            ax = axes[row][col]\n",
    "\n",
    "            ax.plot(b_group[index][signal_columns[i]])\n",
    "            ax.set(title=f\"{signal_columns[i]}\")\n",
    "\n",
    "    plt.tight_layout()\n",
    "    plt.show()\n",
    "\n",
    "interactive_plot = interactive(show_signal, index=(0, len(b_group), 1))\n",
    "display(interactive_plot)"
   ]
  }
 ],
 "metadata": {
  "kernelspec": {
   "display_name": "rtfact",
   "language": "python",
   "name": "python3"
  },
  "language_info": {
   "codemirror_mode": {
    "name": "ipython",
    "version": 3
   },
   "file_extension": ".py",
   "mimetype": "text/x-python",
   "name": "python",
   "nbconvert_exporter": "python",
   "pygments_lexer": "ipython3",
   "version": "3.11.9"
  }
 },
 "nbformat": 4,
 "nbformat_minor": 2
}
