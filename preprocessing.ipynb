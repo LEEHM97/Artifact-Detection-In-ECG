{
 "cells": [
  {
   "cell_type": "code",
   "execution_count": 1,
   "metadata": {},
   "outputs": [],
   "source": [
    "# 재시작 없이 import 파일 자동 적용\n",
    "%load_ext autoreload\n",
    "%autoreload 2"
   ]
  },
  {
   "cell_type": "code",
   "execution_count": 2,
   "metadata": {},
   "outputs": [],
   "source": [
    "import pickle\n",
    "import numpy as np\n",
    "import pandas as pd\n",
    "from scipy import interpolate\n",
    "import neurokit2 as nk\n",
    "from tqdm import tqdm\n",
    "from sklearn.preprocessing import StandardScaler\n",
    "import h5py"
   ]
  },
  {
   "cell_type": "markdown",
   "metadata": {},
   "source": [
    "# Data Loading"
   ]
  },
  {
   "cell_type": "code",
   "execution_count": 6,
   "metadata": {},
   "outputs": [],
   "source": [
    "with h5py.File(\"./dataset/KMedicon/features.h5\", 'r') as f:\n",
    "    ecg = f['ecg'][:]\n",
    "    label = f['label'][:]"
   ]
  },
  {
   "cell_type": "code",
   "execution_count": 7,
   "metadata": {},
   "outputs": [],
   "source": [
    "# resampling to 250Hz\n",
    "def resampling(array, freq, kind='linear'):\n",
    "    t = np.linspace(1, len(array), len(array))\n",
    "    f = interpolate.interp1d(t, array, kind=kind)\n",
    "    t_new = np.linspace(1, len(array), int(len(array)/freq * 250))\n",
    "    new_array = f(t_new)\n",
    "    return new_array\n",
    "\n",
    "\n",
    "# standard normalization \n",
    "def normalize(data):\n",
    "    scaler = StandardScaler()\n",
    "    data_norm = scaler.fit_transform(data)\n",
    "    return data_norm\n",
    "\n",
    "\n",
    "# function of R peaks of a resampled trial\n",
    "def R_Peaks(ecg_data):\n",
    "    # get R Peak positions\n",
    "    pos = []\n",
    "    # get R Peak intervals\n",
    "    trial_interval = []\n",
    "    for ch in range(ecg_data.shape[1]):\n",
    "        cleaned_ecg = nk.ecg_clean(ecg_data[:, ch], sampling_rate=250, method='neurokit')\n",
    "        signals, info = nk.ecg_peaks(cleaned_ecg, sampling_rate=250, correct_artifacts=False)\n",
    "        peaks = signals[signals['ECG_R_Peaks']==1].index.to_list()\n",
    "        pos.append(peaks)\n",
    "        channel_interval = []\n",
    "        for i in range(len(peaks)-1):\n",
    "            channel_interval.append(peaks[i+1] - peaks[i])\n",
    "        trial_interval.append(channel_interval)\n",
    "        \n",
    "    df_peaks = pd.DataFrame(pos) # [C=15, num of the R-Peaks of a channel]\n",
    "    df = pd.DataFrame(trial_interval).T\n",
    "    med = df.median()\n",
    "    return df, med, df_peaks"
   ]
  },
  {
   "cell_type": "code",
   "execution_count": 10,
   "metadata": {},
   "outputs": [
    {
     "data": {
      "text/plain": [
       "(2400, 5000, 12)"
      ]
     },
     "execution_count": 10,
     "metadata": {},
     "output_type": "execute_result"
    }
   ],
   "source": [
    "ecg.shape"
   ]
  },
  {
   "cell_type": "code",
   "execution_count": 11,
   "metadata": {},
   "outputs": [
    {
     "data": {
      "text/plain": [
       "(5000, 12)"
      ]
     },
     "execution_count": 11,
     "metadata": {},
     "output_type": "execute_result"
    }
   ],
   "source": [
    "ecg[0].shape"
   ]
  },
  {
   "cell_type": "code",
   "execution_count": 24,
   "metadata": {},
   "outputs": [
    {
     "name": "stderr",
     "output_type": "stream",
     "text": [
      "100%|██████████| 2400/2400 [00:05<00:00, 402.31it/s]"
     ]
    },
    {
     "name": "stdout",
     "output_type": "stream",
     "text": [
      "(10, 250, 12)\n"
     ]
    },
    {
     "name": "stderr",
     "output_type": "stream",
     "text": [
      "\n"
     ]
    }
   ],
   "source": [
    "cnt = 0\n",
    "p_ecg = []\n",
    "\n",
    "for ecg_data in tqdm(ecg):\n",
    "    sub = []\n",
    "    trial = []\n",
    "    for ch in range(ecg_data.shape[1]):\n",
    "        data = resampling(ecg_data[:,ch], freq=500, kind='linear')\n",
    "        # data = ecg_data[:, ch]\n",
    "        trial.append(data)\n",
    "        \n",
    "    trial = np.array(trial).T\n",
    "    # trial_norm = normalize(trial)\n",
    "    sub.append(trial)\n",
    "\n",
    "    sub = np.array(sub)\n",
    "    sub = sub.reshape(-1, 250, sub.shape[-1])  # split 10s trial into 1s sample\n",
    "\n",
    "    p_ecg.append(sub)\n",
    "    # np.save('./dataset/KMedicon/Feature/feature_{}.npy'.format(cnt), sub)\n",
    "\n",
    "    cnt +=1\n",
    "\n",
    "print(sub.shape)"
   ]
  },
  {
   "cell_type": "code",
   "execution_count": 28,
   "metadata": {},
   "outputs": [
    {
     "data": {
      "text/plain": [
       "(2400, 10, 250, 12)"
      ]
     },
     "execution_count": 28,
     "metadata": {},
     "output_type": "execute_result"
    }
   ],
   "source": [
    "np.array(p_ecg).shape"
   ]
  },
  {
   "cell_type": "code",
   "execution_count": 29,
   "metadata": {},
   "outputs": [],
   "source": [
    "with h5py.File(\"./processed_features.h5\", 'w') as f:\n",
    "    f.create_dataset('ecg', data=np.array(p_ecg))\n",
    "    f.create_dataset('label', data=np.array(label))"
   ]
  },
  {
   "cell_type": "markdown",
   "metadata": {},
   "source": [
    "# pkl to h5"
   ]
  },
  {
   "cell_type": "code",
   "execution_count": null,
   "metadata": {},
   "outputs": [],
   "source": [
    "with open(\"./dataset/Signal_Test_Public.pkl\", 'rb') as f:\n",
    "    signal = pickle.load(f)"
   ]
  },
  {
   "cell_type": "code",
   "execution_count": 5,
   "metadata": {},
   "outputs": [],
   "source": [
    "with h5py.File(\"./features.h5\", 'w') as f:\n",
    "    f.create_dataset('ecg', data=np_signal)\n",
    "    # f.create_dataset('label', data=np.array(label))"
   ]
  }
 ],
 "metadata": {
  "kernelspec": {
   "display_name": "rtfact",
   "language": "python",
   "name": "python3"
  },
  "language_info": {
   "codemirror_mode": {
    "name": "ipython",
    "version": 3
   },
   "file_extension": ".py",
   "mimetype": "text/x-python",
   "name": "python",
   "nbconvert_exporter": "python",
   "pygments_lexer": "ipython3",
   "version": "3.8.20"
  }
 },
 "nbformat": 4,
 "nbformat_minor": 2
}
