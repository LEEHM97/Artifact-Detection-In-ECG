{
 "cells": [
  {
   "cell_type": "code",
   "execution_count": 152,
   "metadata": {},
   "outputs": [
    {
     "name": "stdout",
     "output_type": "stream",
     "text": [
      "The autoreload extension is already loaded. To reload it, use:\n",
      "  %reload_ext autoreload\n"
     ]
    }
   ],
   "source": [
    "# 재시작 없이 import 파일 자동 적용\n",
    "%load_ext autoreload\n",
    "%autoreload 2"
   ]
  },
  {
   "cell_type": "code",
   "execution_count": 172,
   "metadata": {},
   "outputs": [],
   "source": [
    "import os\n",
    "import torch\n",
    "import random\n",
    "import numpy as np\n",
    "import matplotlib.pyplot as plt\n",
    "\n",
    "from tqdm import tqdm\n",
    "from torch.utils.data import DataLoader\n",
    "from data_loader import PublicTest\n",
    "from data_factory import collate_fn\n",
    "from config import CONFIG\n",
    "from classification import Exp_Classification\n",
    "\n",
    "from sklearn.metrics import f1_score\n",
    "from sklearn.metrics import roc_auc_score\n",
    "from sklearn.metrics import matthews_corrcoef"
   ]
  },
  {
   "cell_type": "code",
   "execution_count": 173,
   "metadata": {},
   "outputs": [],
   "source": [
    "seed = CONFIG['seed']\n",
    "    \n",
    "random.seed(seed)\n",
    "os.environ['PYTHONHASHSEED'] = str(seed)\n",
    "np.random.seed(seed)\n",
    "torch.manual_seed(seed)\n",
    "torch.cuda.manual_seed(seed)\n",
    "torch.cuda.manual_seed_all(seed)\n",
    "\n",
    "torch.backends.cudnn.benchmark = False\n",
    "torch.backends.cudnn.deterministic = True"
   ]
  },
  {
   "cell_type": "code",
   "execution_count": 174,
   "metadata": {},
   "outputs": [
    {
     "name": "stdout",
     "output_type": "stream",
     "text": [
      "Use GPU: cuda:0\n"
     ]
    }
   ],
   "source": [
    "setting = \"{}_{}_{}_{}_bs{}_sl{}_lr{}_pl{}_dm{}_nh{}_el{}_df{}_fc{}_eb{}_{}_seed{}\".format(\n",
    "                CONFIG['task_name'],\n",
    "                CONFIG['model_id'],\n",
    "                CONFIG['model'],\n",
    "                CONFIG['data'],\n",
    "                CONFIG['batch_size'],\n",
    "                CONFIG['seq_len'],\n",
    "                CONFIG['learning_rate'],\n",
    "                CONFIG['pred_len'],\n",
    "                CONFIG['d_model'],\n",
    "                CONFIG['n_heads'],\n",
    "                CONFIG['e_layers'],\n",
    "                CONFIG['d_ff'],\n",
    "                CONFIG['factor'],\n",
    "                CONFIG['embed'],\n",
    "                CONFIG['des'],\n",
    "                CONFIG['seed'],\n",
    "            )\n",
    "\n",
    "exp = Exp_Classification(CONFIG)"
   ]
  },
  {
   "cell_type": "code",
   "execution_count": 175,
   "metadata": {},
   "outputs": [
    {
     "data": {
      "text/plain": [
       "AveragedModel(\n",
       "  (module): Model(\n",
       "    (enc_embedding): ListPatchEmbedding(\n",
       "      (value_embeddings): ModuleList(\n",
       "        (0): CrossChannelTokenEmbedding(\n",
       "          (tokenConv): Conv2d(1, 128, kernel_size=(12, 2), stride=(1, 2), bias=False, padding_mode=circular)\n",
       "        )\n",
       "        (1): CrossChannelTokenEmbedding(\n",
       "          (tokenConv): Conv2d(1, 128, kernel_size=(12, 4), stride=(1, 4), bias=False, padding_mode=circular)\n",
       "        )\n",
       "        (2-3): 2 x CrossChannelTokenEmbedding(\n",
       "          (tokenConv): Conv2d(1, 128, kernel_size=(12, 8), stride=(1, 8), bias=False, padding_mode=circular)\n",
       "        )\n",
       "        (4-6): 3 x CrossChannelTokenEmbedding(\n",
       "          (tokenConv): Conv2d(1, 128, kernel_size=(12, 16), stride=(1, 16), bias=False, padding_mode=circular)\n",
       "        )\n",
       "        (7-11): 5 x CrossChannelTokenEmbedding(\n",
       "          (tokenConv): Conv2d(1, 128, kernel_size=(12, 32), stride=(1, 32), bias=False, padding_mode=circular)\n",
       "        )\n",
       "      )\n",
       "      (position_embedding): PositionalEmbedding()\n",
       "      (dropout): Dropout(p=0.1, inplace=False)\n",
       "      (augmentation): ModuleList(\n",
       "        (0): Jitter()\n",
       "        (1): Scale()\n",
       "        (2): Dropout(p=0.5, inplace=False)\n",
       "      )\n",
       "      (learnable_embeddings): ParameterList(\n",
       "          (0): Parameter containing: [torch.float32 of size 1x128 (GPU 0)]\n",
       "          (1): Parameter containing: [torch.float32 of size 1x128 (GPU 0)]\n",
       "          (2): Parameter containing: [torch.float32 of size 1x128 (GPU 0)]\n",
       "          (3): Parameter containing: [torch.float32 of size 1x128 (GPU 0)]\n",
       "          (4): Parameter containing: [torch.float32 of size 1x128 (GPU 0)]\n",
       "          (5): Parameter containing: [torch.float32 of size 1x128 (GPU 0)]\n",
       "          (6): Parameter containing: [torch.float32 of size 1x128 (GPU 0)]\n",
       "          (7): Parameter containing: [torch.float32 of size 1x128 (GPU 0)]\n",
       "          (8): Parameter containing: [torch.float32 of size 1x128 (GPU 0)]\n",
       "          (9): Parameter containing: [torch.float32 of size 1x128 (GPU 0)]\n",
       "          (10): Parameter containing: [torch.float32 of size 1x128 (GPU 0)]\n",
       "          (11): Parameter containing: [torch.float32 of size 1x128 (GPU 0)]\n",
       "      )\n",
       "    )\n",
       "    (encoder): Encoder(\n",
       "      (attn_layers): ModuleList(\n",
       "        (0-5): 6 x EncoderLayer(\n",
       "          (attention): MedformerLayer(\n",
       "            (intra_attentions): ModuleList(\n",
       "              (0-11): 12 x AttentionLayer(\n",
       "                (inner_attention): FullAttention(\n",
       "                  (dropout): Dropout(p=0.1, inplace=False)\n",
       "                )\n",
       "                (query_projection): Linear(in_features=128, out_features=128, bias=True)\n",
       "                (key_projection): Linear(in_features=128, out_features=128, bias=True)\n",
       "                (value_projection): Linear(in_features=128, out_features=128, bias=True)\n",
       "                (out_projection): Linear(in_features=128, out_features=128, bias=True)\n",
       "              )\n",
       "            )\n",
       "            (inter_attention): AttentionLayer(\n",
       "              (inner_attention): FullAttention(\n",
       "                (dropout): Dropout(p=0.1, inplace=False)\n",
       "              )\n",
       "              (query_projection): Linear(in_features=128, out_features=128, bias=True)\n",
       "              (key_projection): Linear(in_features=128, out_features=128, bias=True)\n",
       "              (value_projection): Linear(in_features=128, out_features=128, bias=True)\n",
       "              (out_projection): Linear(in_features=128, out_features=128, bias=True)\n",
       "            )\n",
       "          )\n",
       "          (conv1): Conv1d(128, 256, kernel_size=(1,), stride=(1,))\n",
       "          (conv2): Conv1d(256, 128, kernel_size=(1,), stride=(1,))\n",
       "          (norm1): LayerNorm((128,), eps=1e-05, elementwise_affine=True)\n",
       "          (norm2): LayerNorm((128,), eps=1e-05, elementwise_affine=True)\n",
       "          (dropout): Dropout(p=0.1, inplace=False)\n",
       "        )\n",
       "      )\n",
       "      (norm): LayerNorm((128,), eps=1e-05, elementwise_affine=True)\n",
       "    )\n",
       "    (dropout): Dropout(p=0.1, inplace=False)\n",
       "    (projection): Linear(in_features=431232, out_features=2, bias=True)\n",
       "  )\n",
       ")"
      ]
     },
     "execution_count": 175,
     "metadata": {},
     "output_type": "execute_result"
    }
   ],
   "source": [
    "# model_path = \"./checkpoints/classification_JHM04_1_Medformer_K-Medicon_bs4_sl96_lr0.0001_pl96_dm512_nh8_el6_df256_fc1_ebtimeF_Exp_seed44/checkpoint.pth\"\n",
    "model_path = \"./checkpoints/classification_JT08_2_Medformer_K-Medicon_bs4_sl96_lr0.0001_pl96_dm128_nh8_el6_df256_fc1_ebtimeF_Exp_seed41/checkpoint.pth\"\n",
    "# model_path = \"./BestModels/lhm1_checkpoint.pth\"\n",
    "\n",
    "exp.swa_model.load_state_dict(torch.load(model_path))\n",
    "exp.swa_model.eval()\n",
    "\n",
    "# print(\"good\")"
   ]
  },
  {
   "cell_type": "code",
   "execution_count": 176,
   "metadata": {},
   "outputs": [],
   "source": [
    "testset = PublicTest(\"./dataset/Signal_Test_Public.h5\")\n",
    "test_loader = DataLoader(\n",
    "    testset,\n",
    "    batch_size=1,\n",
    "    shuffle=False,\n",
    "    num_workers=0,\n",
    "    drop_last=False\n",
    "    )"
   ]
  },
  {
   "cell_type": "code",
   "execution_count": 177,
   "metadata": {},
   "outputs": [
    {
     "name": "stderr",
     "output_type": "stream",
     "text": [
      "100%|██████████| 300/300 [00:11<00:00, 25.56it/s]\n"
     ]
    }
   ],
   "source": [
    "device = torch.device(\"cuda:0\")\n",
    "\n",
    "total_loss = []\n",
    "preds = []\n",
    "trues = []\n",
    "\n",
    "with torch.no_grad():\n",
    "    for i, (batch_x, label) in enumerate(tqdm(test_loader)):\n",
    "        \n",
    "        # downsample_factor = 4\n",
    "        # downsampled_array = batch_x.reshape(1, -1, downsample_factor, 1).mean(axis=2)\n",
    "        # batch_x = downsampled_array\n",
    "        \n",
    "        batch_x = batch_x.float().to(device)\n",
    "        label = label.to(device)\n",
    "        # padding_mask = padding_mask.float().to(device)\n",
    "\n",
    "        outputs = exp.swa_model(batch_x, None, None, None)\n",
    "\n",
    "        pred = outputs.detach().cpu()\n",
    "\n",
    "        preds.append(outputs.detach())\n",
    "        trues.append(label)\n",
    "\n",
    "preds = torch.cat(preds, 0)\n",
    "trues = torch.cat(trues, 0)\n",
    "\n",
    "probs = torch.nn.functional.softmax(\n",
    "    preds\n",
    ")  # (total_samples, num_classes) est. prob. for each class and sample\n",
    "\n",
    "trues_onehot = (torch.nn.functional.one_hot(trues.reshape(-1,).to(torch.long),\n",
    "                num_classes=CONFIG['num_class'],).float().cpu().numpy())\n",
    "\n",
    "# print(trues_onehot.shape)\n",
    "predictions = (\n",
    "    torch.argmax(probs, dim=1).cpu().numpy()\n",
    ")  # (total_samples,) int class index for each sample\n",
    "probs = probs.cpu().numpy()\n",
    "trues = trues.flatten().cpu().numpy()"
   ]
  },
  {
   "cell_type": "code",
   "execution_count": 178,
   "metadata": {},
   "outputs": [
    {
     "name": "stdout",
     "output_type": "stream",
     "text": [
      "F1 score: 0.6706586826347306\n",
      "AUROC score: 0.8502518518518518\n",
      "MCC score: 0.5509189647176966\n",
      "CPI score: 0.6556871159804939\n"
     ]
    }
   ],
   "source": [
    "f1 = f1_score(trues, predictions, average=\"binary\")\n",
    "auroc = roc_auc_score(trues_onehot, probs)\n",
    "mcc = matthews_corrcoef(trues, predictions)\n",
    "cpi = (0.25 * f1) + (0.25 * auroc) + (0.5 * mcc)\n",
    "\n",
    "print(f\"F1 score: {f1}\")\n",
    "print(f\"AUROC score: {auroc}\")\n",
    "print(f\"MCC score: {mcc}\")\n",
    "print(f\"CPI score: {cpi}\")"
   ]
  },
  {
   "cell_type": "code",
   "execution_count": 151,
   "metadata": {},
   "outputs": [
    {
     "name": "stdout",
     "output_type": "stream",
     "text": [
      "0개수: 256\n",
      "1개수: 44\n"
     ]
    }
   ],
   "source": [
    "print(f\"0개수: {len(np.where(predictions[:]==0)[0])}\")\n",
    "print(f\"1개수: {len(np.where(predictions[:]==1)[0])}\")"
   ]
  },
  {
   "cell_type": "code",
   "execution_count": 141,
   "metadata": {},
   "outputs": [],
   "source": [
    "import pandas as pd\n",
    "\n",
    "df = pd.DataFrame({\"0\":probs[:,0], \"1\":probs[:,1]})\n",
    "\n",
    "save_xlsx = pd.ExcelWriter(\"./RTFACT_241010_Public_Possibility_JHM04_1.xlsx\")\n",
    "df.to_excel(save_xlsx, index = False) # xlsx 파일로 변환\n",
    "\n",
    "save_xlsx.save() #xlsx 파일로 저장"
   ]
  },
  {
   "cell_type": "code",
   "execution_count": null,
   "metadata": {},
   "outputs": [],
   "source": []
  },
  {
   "cell_type": "code",
   "execution_count": 16,
   "metadata": {},
   "outputs": [
    {
     "data": {
      "text/plain": [
       "1"
      ]
     },
     "execution_count": 16,
     "metadata": {},
     "output_type": "execute_result"
    }
   ],
   "source": [
    "predictions[15]"
   ]
  },
  {
   "cell_type": "code",
   "execution_count": 77,
   "metadata": {},
   "outputs": [
    {
     "data": {
      "text/plain": [
       "125"
      ]
     },
     "execution_count": 77,
     "metadata": {},
     "output_type": "execute_result"
    }
   ],
   "source": []
  },
  {
   "cell_type": "code",
   "execution_count": null,
   "metadata": {},
   "outputs": [],
   "source": []
  }
 ],
 "metadata": {
  "kernelspec": {
   "display_name": "rtfact",
   "language": "python",
   "name": "python3"
  },
  "language_info": {
   "codemirror_mode": {
    "name": "ipython",
    "version": 3
   },
   "file_extension": ".py",
   "mimetype": "text/x-python",
   "name": "python",
   "nbconvert_exporter": "python",
   "pygments_lexer": "ipython3",
   "version": "3.8.19"
  }
 },
 "nbformat": 4,
 "nbformat_minor": 2
}
