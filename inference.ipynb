{
 "cells": [
  {
   "cell_type": "code",
   "execution_count": 39,
   "metadata": {},
   "outputs": [
    {
     "name": "stdout",
     "output_type": "stream",
     "text": [
      "The autoreload extension is already loaded. To reload it, use:\n",
      "  %reload_ext autoreload\n"
     ]
    }
   ],
   "source": [
    "# 재시작 없이 import 파일 자동 적용\n",
    "%load_ext autoreload\n",
    "%autoreload 2"
   ]
  },
  {
   "cell_type": "code",
   "execution_count": 45,
   "metadata": {},
   "outputs": [],
   "source": [
    "import os\n",
    "import torch\n",
    "import random\n",
    "import numpy as np\n",
    "import matplotlib.pyplot as plt\n",
    "\n",
    "from tqdm import tqdm\n",
    "from torch.utils.data import DataLoader\n",
    "from data_loader import PublicTest\n",
    "from data_factory import collate_fn\n",
    "from config import CONFIG\n",
    "from classification import Exp_Classification\n",
    "\n",
    "from sklearn.metrics import f1_score\n",
    "from sklearn.metrics import roc_auc_score\n",
    "from sklearn.metrics import matthews_corrcoef"
   ]
  },
  {
   "cell_type": "code",
   "execution_count": 46,
   "metadata": {},
   "outputs": [],
   "source": [
    "seed = CONFIG['seed']\n",
    "    \n",
    "random.seed(seed)\n",
    "os.environ['PYTHONHASHSEED'] = str(seed)\n",
    "np.random.seed(seed)\n",
    "torch.manual_seed(seed)\n",
    "torch.cuda.manual_seed(seed)\n",
    "torch.cuda.manual_seed_all(seed)\n",
    "\n",
    "torch.backends.cudnn.benchmark = False\n",
    "torch.backends.cudnn.deterministic = True"
   ]
  },
  {
   "cell_type": "code",
   "execution_count": 47,
   "metadata": {},
   "outputs": [
    {
     "name": "stdout",
     "output_type": "stream",
     "text": [
      "Use GPU: cuda:0\n"
     ]
    }
   ],
   "source": [
    "setting = \"{}_{}_{}_{}_bs{}_sl{}_lr{}_pl{}_dm{}_nh{}_el{}_df{}_fc{}_eb{}_{}_seed{}\".format(\n",
    "                CONFIG['task_name'],\n",
    "                CONFIG['model_id'],\n",
    "                CONFIG['model'],\n",
    "                CONFIG['data'],\n",
    "                CONFIG['batch_size'],\n",
    "                CONFIG['seq_len'],\n",
    "                CONFIG['learning_rate'],\n",
    "                CONFIG['pred_len'],\n",
    "                CONFIG['d_model'],\n",
    "                CONFIG['n_heads'],\n",
    "                CONFIG['e_layers'],\n",
    "                CONFIG['d_ff'],\n",
    "                CONFIG['factor'],\n",
    "                CONFIG['embed'],\n",
    "                CONFIG['des'],\n",
    "                CONFIG['seed'],\n",
    "            )\n",
    "\n",
    "exp = Exp_Classification(CONFIG)"
   ]
  },
  {
   "cell_type": "code",
   "execution_count": 48,
   "metadata": {},
   "outputs": [],
   "source": [
    "testset = PublicTest(\"./dataset/KMedicon/public_test2.h5\")\n",
    "test_loader = DataLoader(\n",
    "    testset,\n",
    "    batch_size=1,\n",
    "    shuffle=False,\n",
    "    num_workers=0,\n",
    "    drop_last=False,\n",
    "    # collate_fn=lambda x: collate_fn(\n",
    "    #             x, max_len=CONFIG['seq_len']),\n",
    "    )"
   ]
  },
  {
   "cell_type": "code",
   "execution_count": 49,
   "metadata": {},
   "outputs": [
    {
     "ename": "RuntimeError",
     "evalue": "Error(s) in loading state_dict for AveragedModel:\n\tsize mismatch for module.enc_embedding.position_embedding.pe: copying a param with shape torch.Size([1, 50000, 128]) from checkpoint, the shape in current model is torch.Size([1, 5000, 128]).",
     "output_type": "error",
     "traceback": [
      "\u001b[1;31m---------------------------------------------------------------------------\u001b[0m",
      "\u001b[1;31mRuntimeError\u001b[0m                              Traceback (most recent call last)",
      "Cell \u001b[1;32mIn[49], line 3\u001b[0m\n\u001b[0;32m      1\u001b[0m \u001b[38;5;66;03m# model_path = \"./checkpoints/classification_HM05_Medformer_K-Medicon_bs4_sl96_lr0.0001_pl96_dm128_nh8_el6_df256_fc1_ebtimeF_Exp_seed44/checkpoint.pth\"\u001b[39;00m\n\u001b[0;32m      2\u001b[0m model_path \u001b[38;5;241m=\u001b[39m \u001b[38;5;124m\"\u001b[39m\u001b[38;5;124m./BestModels/JT08_2.pth\u001b[39m\u001b[38;5;124m\"\u001b[39m\n\u001b[1;32m----> 3\u001b[0m \u001b[43mexp\u001b[49m\u001b[38;5;241;43m.\u001b[39;49m\u001b[43mswa_model\u001b[49m\u001b[38;5;241;43m.\u001b[39;49m\u001b[43mload_state_dict\u001b[49m\u001b[43m(\u001b[49m\u001b[43mtorch\u001b[49m\u001b[38;5;241;43m.\u001b[39;49m\u001b[43mload\u001b[49m\u001b[43m(\u001b[49m\u001b[43mmodel_path\u001b[49m\u001b[43m)\u001b[49m\u001b[43m)\u001b[49m\n\u001b[0;32m      4\u001b[0m exp\u001b[38;5;241m.\u001b[39mswa_model\u001b[38;5;241m.\u001b[39meval()\n\u001b[0;32m      6\u001b[0m device \u001b[38;5;241m=\u001b[39m torch\u001b[38;5;241m.\u001b[39mdevice(\u001b[38;5;124m\"\u001b[39m\u001b[38;5;124mcuda:0\u001b[39m\u001b[38;5;124m\"\u001b[39m)\n",
      "File \u001b[1;32mc:\\Users\\gmlkd\\miniforge3\\envs\\rtfact\\lib\\site-packages\\torch\\nn\\modules\\module.py:2041\u001b[0m, in \u001b[0;36mModule.load_state_dict\u001b[1;34m(self, state_dict, strict)\u001b[0m\n\u001b[0;32m   2036\u001b[0m         error_msgs\u001b[38;5;241m.\u001b[39minsert(\n\u001b[0;32m   2037\u001b[0m             \u001b[38;5;241m0\u001b[39m, \u001b[38;5;124m'\u001b[39m\u001b[38;5;124mMissing key(s) in state_dict: \u001b[39m\u001b[38;5;132;01m{}\u001b[39;00m\u001b[38;5;124m. \u001b[39m\u001b[38;5;124m'\u001b[39m\u001b[38;5;241m.\u001b[39mformat(\n\u001b[0;32m   2038\u001b[0m                 \u001b[38;5;124m'\u001b[39m\u001b[38;5;124m, \u001b[39m\u001b[38;5;124m'\u001b[39m\u001b[38;5;241m.\u001b[39mjoin(\u001b[38;5;124m'\u001b[39m\u001b[38;5;124m\"\u001b[39m\u001b[38;5;132;01m{}\u001b[39;00m\u001b[38;5;124m\"\u001b[39m\u001b[38;5;124m'\u001b[39m\u001b[38;5;241m.\u001b[39mformat(k) \u001b[38;5;28;01mfor\u001b[39;00m k \u001b[38;5;129;01min\u001b[39;00m missing_keys)))\n\u001b[0;32m   2040\u001b[0m \u001b[38;5;28;01mif\u001b[39;00m \u001b[38;5;28mlen\u001b[39m(error_msgs) \u001b[38;5;241m>\u001b[39m \u001b[38;5;241m0\u001b[39m:\n\u001b[1;32m-> 2041\u001b[0m     \u001b[38;5;28;01mraise\u001b[39;00m \u001b[38;5;167;01mRuntimeError\u001b[39;00m(\u001b[38;5;124m'\u001b[39m\u001b[38;5;124mError(s) in loading state_dict for \u001b[39m\u001b[38;5;132;01m{}\u001b[39;00m\u001b[38;5;124m:\u001b[39m\u001b[38;5;130;01m\\n\u001b[39;00m\u001b[38;5;130;01m\\t\u001b[39;00m\u001b[38;5;132;01m{}\u001b[39;00m\u001b[38;5;124m'\u001b[39m\u001b[38;5;241m.\u001b[39mformat(\n\u001b[0;32m   2042\u001b[0m                        \u001b[38;5;28mself\u001b[39m\u001b[38;5;241m.\u001b[39m\u001b[38;5;18m__class__\u001b[39m\u001b[38;5;241m.\u001b[39m\u001b[38;5;18m__name__\u001b[39m, \u001b[38;5;124m\"\u001b[39m\u001b[38;5;130;01m\\n\u001b[39;00m\u001b[38;5;130;01m\\t\u001b[39;00m\u001b[38;5;124m\"\u001b[39m\u001b[38;5;241m.\u001b[39mjoin(error_msgs)))\n\u001b[0;32m   2043\u001b[0m \u001b[38;5;28;01mreturn\u001b[39;00m _IncompatibleKeys(missing_keys, unexpected_keys)\n",
      "\u001b[1;31mRuntimeError\u001b[0m: Error(s) in loading state_dict for AveragedModel:\n\tsize mismatch for module.enc_embedding.position_embedding.pe: copying a param with shape torch.Size([1, 50000, 128]) from checkpoint, the shape in current model is torch.Size([1, 5000, 128])."
     ]
    }
   ],
   "source": [
    "# model_path = \"./checkpoints/classification_HM05_Medformer_K-Medicon_bs4_sl96_lr0.0001_pl96_dm128_nh8_el6_df256_fc1_ebtimeF_Exp_seed44/checkpoint.pth\"\n",
    "model_path = \"./BestModels/JT08_2.pth\"\n",
    "exp.swa_model.load_state_dict(torch.load(model_path))\n",
    "exp.swa_model.eval()\n",
    "\n",
    "device = torch.device(\"cuda:0\")\n",
    "\n",
    "total_loss = []\n",
    "preds = []\n",
    "trues = []\n",
    "\n",
    "with torch.no_grad():\n",
    "    for i, (batch_x, label) in enumerate(tqdm(test_loader)):\n",
    "        batch_x = batch_x.float().to(device)\n",
    "        label = label.to(device)\n",
    "        # padding_mask = padding_mask.float().to(device)\n",
    "\n",
    "        outputs = exp.swa_model(batch_x, None, None, None)\n",
    "\n",
    "        pred = outputs.detach().cpu()\n",
    "\n",
    "        preds.append(outputs.detach())\n",
    "        trues.append(label)\n",
    "\n",
    "preds = torch.cat(preds, 0)\n",
    "trues = torch.cat(trues, 0)\n",
    "\n",
    "probs = torch.nn.functional.sigmoid(\n",
    "    preds\n",
    ")  # (total_samples, num_classes) est. prob. for each class and sample\n",
    "\n",
    "trues_onehot = (torch.nn.functional.one_hot(trues.reshape(-1,).to(torch.long),\n",
    "                num_classes=CONFIG['num_class'],).float().cpu().numpy())\n",
    "\n",
    "# print(trues_onehot.shape)\n",
    "predictions = (\n",
    "    torch.argmax(probs, dim=1).cpu().numpy()\n",
    ")  # (total_samples,) int class index for each sample\n",
    "probs = probs.cpu().numpy()\n",
    "trues = trues.flatten().cpu().numpy()"
   ]
  },
  {
   "cell_type": "code",
   "execution_count": 36,
   "metadata": {},
   "outputs": [
    {
     "name": "stdout",
     "output_type": "stream",
     "text": [
      "F1 score: 0.6792452830188679\n",
      "AUROC score: 0.8858666666666666\n",
      "MCC score: 0.5657789498610037\n",
      "CPI score: 0.6741674623518855\n"
     ]
    }
   ],
   "source": [
    "f1 = f1_score(trues, predictions, average=\"binary\")\n",
    "auroc = roc_auc_score(trues_onehot, probs)\n",
    "mcc = matthews_corrcoef(trues, predictions)\n",
    "cpi = (0.25 * f1) + (0.25 * auroc) + (0.5 * mcc)\n",
    "\n",
    "print(f\"F1 score: {f1}\")\n",
    "print(f\"AUROC score: {auroc}\")\n",
    "print(f\"MCC score: {mcc}\")\n",
    "print(f\"CPI score: {cpi}\")"
   ]
  },
  {
   "cell_type": "markdown",
   "metadata": {},
   "source": [
    "CPI score: 0.6741822771667003"
   ]
  },
  {
   "cell_type": "code",
   "execution_count": 37,
   "metadata": {},
   "outputs": [
    {
     "name": "stdout",
     "output_type": "stream",
     "text": [
      "0개수: 216\n",
      "1개수: 84\n"
     ]
    }
   ],
   "source": [
    "print(f\"0개수: {len(np.where(predictions[:]==0)[0])}\")\n",
    "print(f\"1개수: {len(np.where(predictions[:]==1)[0])}\")"
   ]
  },
  {
   "cell_type": "code",
   "execution_count": 38,
   "metadata": {},
   "outputs": [],
   "source": [
    "import pandas as pd\n",
    "\n",
    "df = pd.DataFrame({\"possibility\":probs[:,1]})\n",
    "\n",
    "save_xlsx = pd.ExcelWriter(\"./public_results/RTFACT_241011_Public_Possibility_HM05_Sigmoid.xlsx\")\n",
    "df.to_excel(save_xlsx, index = False) # xlsx 파일로 변환\n",
    "\n",
    "save_xlsx.save() #xlsx 파일로 저장"
   ]
  },
  {
   "cell_type": "code",
   "execution_count": null,
   "metadata": {},
   "outputs": [],
   "source": []
  },
  {
   "cell_type": "code",
   "execution_count": 16,
   "metadata": {},
   "outputs": [
    {
     "data": {
      "text/plain": [
       "1"
      ]
     },
     "execution_count": 16,
     "metadata": {},
     "output_type": "execute_result"
    }
   ],
   "source": [
    "predictions[15]"
   ]
  },
  {
   "cell_type": "code",
   "execution_count": null,
   "metadata": {},
   "outputs": [],
   "source": []
  }
 ],
 "metadata": {
  "kernelspec": {
   "display_name": "rtfact",
   "language": "python",
   "name": "python3"
  },
  "language_info": {
   "codemirror_mode": {
    "name": "ipython",
    "version": 3
   },
   "file_extension": ".py",
   "mimetype": "text/x-python",
   "name": "python",
   "nbconvert_exporter": "python",
   "pygments_lexer": "ipython3",
   "version": "3.8.20"
  }
 },
 "nbformat": 4,
 "nbformat_minor": 2
}
