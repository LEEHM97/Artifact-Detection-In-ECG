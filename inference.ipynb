{
 "cells": [
  {
   "cell_type": "code",
   "execution_count": 63,
   "metadata": {},
   "outputs": [
    {
     "name": "stdout",
     "output_type": "stream",
     "text": [
      "The autoreload extension is already loaded. To reload it, use:\n",
      "  %reload_ext autoreload\n"
     ]
    }
   ],
   "source": [
    "# 재시작 없이 import 파일 자동 적용\n",
    "%load_ext autoreload\n",
    "%autoreload 2"
   ]
  },
  {
   "cell_type": "code",
   "execution_count": 79,
   "metadata": {},
   "outputs": [],
   "source": [
    "import os\n",
    "import torch\n",
    "import random\n",
    "import numpy as np\n",
    "import matplotlib.pyplot as plt\n",
    "\n",
    "from tqdm import tqdm\n",
    "from torch.utils.data import DataLoader\n",
    "from data_loader import PublicTest\n",
    "from data_factory import collate_fn\n",
    "from config import CONFIG\n",
    "from classification import Exp_Classification\n",
    "\n",
    "from sklearn.metrics import f1_score\n",
    "from sklearn.metrics import roc_auc_score\n",
    "from sklearn.metrics import matthews_corrcoef"
   ]
  },
  {
   "cell_type": "code",
   "execution_count": 80,
   "metadata": {},
   "outputs": [],
   "source": [
    "seed = CONFIG['seed']\n",
    "    \n",
    "random.seed(seed)\n",
    "os.environ['PYTHONHASHSEED'] = str(seed)\n",
    "np.random.seed(seed)\n",
    "torch.manual_seed(seed)\n",
    "torch.cuda.manual_seed(seed)\n",
    "torch.cuda.manual_seed_all(seed)\n",
    "\n",
    "torch.backends.cudnn.benchmark = False\n",
    "torch.backends.cudnn.deterministic = True"
   ]
  },
  {
   "cell_type": "code",
   "execution_count": 81,
   "metadata": {},
   "outputs": [
    {
     "name": "stdout",
     "output_type": "stream",
     "text": [
      "Use GPU: cuda:0\n"
     ]
    }
   ],
   "source": [
    "setting = \"{}_{}_{}_{}_bs{}_sl{}_lr{}_pl{}_dm{}_nh{}_el{}_df{}_fc{}_eb{}_{}_seed{}\".format(\n",
    "                CONFIG['task_name'],\n",
    "                CONFIG['model_id'],\n",
    "                CONFIG['model'],\n",
    "                CONFIG['data'],\n",
    "                CONFIG['batch_size'],\n",
    "                CONFIG['seq_len'],\n",
    "                CONFIG['learning_rate'],\n",
    "                CONFIG['pred_len'],\n",
    "                CONFIG['d_model'],\n",
    "                CONFIG['n_heads'],\n",
    "                CONFIG['e_layers'],\n",
    "                CONFIG['d_ff'],\n",
    "                CONFIG['factor'],\n",
    "                CONFIG['embed'],\n",
    "                CONFIG['des'],\n",
    "                CONFIG['seed'],\n",
    "            )\n",
    "\n",
    "exp = Exp_Classification(CONFIG)"
   ]
  },
  {
   "cell_type": "code",
   "execution_count": 82,
   "metadata": {},
   "outputs": [],
   "source": [
    "testset = PublicTest(\"./dataset/KMedicon/public_test2.h5\")\n",
    "test_loader = DataLoader(\n",
    "    testset,\n",
    "    batch_size=1,\n",
    "    shuffle=False,\n",
    "    num_workers=0,\n",
    "    drop_last=False,\n",
    "    # collate_fn=lambda x: collate_fn(\n",
    "    #             x, max_len=CONFIG['seq_len']),\n",
    "    )"
   ]
  },
  {
   "cell_type": "code",
   "execution_count": 87,
   "metadata": {},
   "outputs": [
    {
     "name": "stderr",
     "output_type": "stream",
     "text": [
      "100%|██████████| 300/300 [00:10<00:00, 27.89it/s]\n"
     ]
    }
   ],
   "source": [
    "# model_path = \"./checkpoints/classification_HM05_Medformer_K-Medicon_bs4_sl96_lr0.0001_pl96_dm128_nh8_el6_df256_fc1_ebtimeF_Exp_seed44/checkpoint.pth\"\n",
    "model_path = \"./BestModels/JT08_2.pth\"\n",
    "exp.swa_model.load_state_dict(torch.load(model_path))\n",
    "exp.swa_model.eval()\n",
    "\n",
    "device = torch.device(\"cuda:0\")\n",
    "\n",
    "total_loss = []\n",
    "preds = []\n",
    "trues = []\n",
    "\n",
    "with torch.no_grad():\n",
    "    for i, (batch_x, label) in enumerate(tqdm(test_loader)):\n",
    "        batch_x = batch_x.float().to(device)\n",
    "        label = label.to(device)\n",
    "        # padding_mask = padding_mask.float().to(device)\n",
    "\n",
    "        outputs = exp.swa_model(batch_x, None, None, None)\n",
    "\n",
    "        pred = outputs.detach().cpu()\n",
    "\n",
    "        preds.append(outputs.detach())\n",
    "        trues.append(label)\n",
    "\n",
    "preds = torch.cat(preds, 0)\n",
    "trues = torch.cat(trues, 0)\n",
    "\n",
    "probs = torch.nn.functional.softmax(\n",
    "    preds\n",
    ")  # (total_samples, num_classes) est. prob. for each class and sample\n",
    "\n",
    "trues_onehot = (torch.nn.functional.one_hot(trues.reshape(-1,).to(torch.long),\n",
    "                num_classes=CONFIG['num_class'],).float().cpu().numpy())\n",
    "\n",
    "# print(trues_onehot.shape)\n",
    "predictions = (\n",
    "    torch.argmax(probs, dim=1).cpu().numpy()\n",
    ")  # (total_samples,) int class index for each sample\n",
    "probs = probs.cpu().numpy()\n",
    "trues = trues.flatten().cpu().numpy()"
   ]
  },
  {
   "cell_type": "code",
   "execution_count": 88,
   "metadata": {},
   "outputs": [
    {
     "name": "stdout",
     "output_type": "stream",
     "text": [
      "F1 score: 0.6706586826347306\n",
      "AUROC score: 0.8502518518518518\n",
      "MCC score: 0.5509189647176966\n",
      "CPI score: 0.6556871159804939\n"
     ]
    }
   ],
   "source": [
    "f1 = f1_score(trues, predictions, average=\"binary\")\n",
    "auroc = roc_auc_score(trues_onehot, probs)\n",
    "mcc = matthews_corrcoef(trues, predictions)\n",
    "cpi = (0.25 * f1) + (0.25 * auroc) + (0.5 * mcc)\n",
    "\n",
    "print(f\"F1 score: {f1}\")\n",
    "print(f\"AUROC score: {auroc}\")\n",
    "print(f\"MCC score: {mcc}\")\n",
    "print(f\"CPI score: {cpi}\")"
   ]
  },
  {
   "cell_type": "markdown",
   "metadata": {},
   "source": [
    "CPI score: 0.6741822771667003"
   ]
  },
  {
   "cell_type": "code",
   "execution_count": 89,
   "metadata": {},
   "outputs": [
    {
     "name": "stdout",
     "output_type": "stream",
     "text": [
      "0개수: 208\n",
      "1개수: 92\n"
     ]
    }
   ],
   "source": [
    "print(f\"0개수: {len(np.where(predictions[:]==0)[0])}\")\n",
    "print(f\"1개수: {len(np.where(predictions[:]==1)[0])}\")"
   ]
  },
  {
   "cell_type": "code",
   "execution_count": 90,
   "metadata": {},
   "outputs": [],
   "source": [
    "import pandas as pd\n",
    "\n",
    "df = pd.DataFrame({\"possibility\":probs[:,1]})\n",
    "\n",
    "save_xlsx = pd.ExcelWriter(\"./public_results/RTFACT_241011_Public_Possibility_JT08_2_Softmax.xlsx\")\n",
    "df.to_excel(save_xlsx, index = False) # xlsx 파일로 변환\n",
    "\n",
    "save_xlsx.save() #xlsx 파일로 저장"
   ]
  },
  {
   "cell_type": "code",
   "execution_count": null,
   "metadata": {},
   "outputs": [],
   "source": []
  },
  {
   "cell_type": "code",
   "execution_count": 16,
   "metadata": {},
   "outputs": [
    {
     "data": {
      "text/plain": [
       "1"
      ]
     },
     "execution_count": 16,
     "metadata": {},
     "output_type": "execute_result"
    }
   ],
   "source": [
    "predictions[15]"
   ]
  },
  {
   "cell_type": "code",
   "execution_count": null,
   "metadata": {},
   "outputs": [],
   "source": []
  }
 ],
 "metadata": {
  "kernelspec": {
   "display_name": "rtfact",
   "language": "python",
   "name": "python3"
  },
  "language_info": {
   "codemirror_mode": {
    "name": "ipython",
    "version": 3
   },
   "file_extension": ".py",
   "mimetype": "text/x-python",
   "name": "python",
   "nbconvert_exporter": "python",
   "pygments_lexer": "ipython3",
   "version": "3.8.20"
  }
 },
 "nbformat": 4,
 "nbformat_minor": 2
}
