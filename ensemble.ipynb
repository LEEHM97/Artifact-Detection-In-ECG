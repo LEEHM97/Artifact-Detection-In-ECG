{
 "cells": [
  {
   "cell_type": "code",
   "execution_count": 1,
   "metadata": {},
   "outputs": [],
   "source": [
    "# 재시작 없이 import 파일 자동 적용\n",
    "%load_ext autoreload\n",
    "%autoreload 2"
   ]
  },
  {
   "cell_type": "code",
   "execution_count": 2,
   "metadata": {},
   "outputs": [],
   "source": [
    "import os\n",
    "import torch\n",
    "import random\n",
    "import numpy as np\n",
    "import matplotlib.pyplot as plt\n",
    "\n",
    "from tqdm import tqdm\n",
    "from torch.utils.data import DataLoader\n",
    "from data_loader import PublicTest\n",
    "from data_factory import collate_fn\n",
    "from config import CONFIG\n",
    "from classification import Exp_Classification\n",
    "\n",
    "from sklearn.metrics import f1_score\n",
    "from sklearn.metrics import roc_auc_score\n",
    "from sklearn.metrics import matthews_corrcoef"
   ]
  },
  {
   "cell_type": "code",
   "execution_count": 3,
   "metadata": {},
   "outputs": [],
   "source": [
    "seed = CONFIG['seed']\n",
    "    \n",
    "random.seed(seed)\n",
    "os.environ['PYTHONHASHSEED'] = str(seed)\n",
    "np.random.seed(seed)\n",
    "torch.manual_seed(seed)\n",
    "torch.cuda.manual_seed(seed)\n",
    "torch.cuda.manual_seed_all(seed)\n",
    "\n",
    "torch.backends.cudnn.benchmark = False\n",
    "torch.backends.cudnn.deterministic = True"
   ]
  },
  {
   "cell_type": "code",
   "execution_count": 10,
   "metadata": {},
   "outputs": [
    {
     "name": "stdout",
     "output_type": "stream",
     "text": [
      "Use GPU: cuda:0\n",
      "Use GPU: cuda:0\n",
      "Use GPU: cuda:0\n",
      "Use GPU: cuda:0\n",
      "Use GPU: cuda:0\n"
     ]
    }
   ],
   "source": [
    "setting = \"{}_{}_{}_{}_bs{}_sl{}_lr{}_pl{}_dm{}_nh{}_el{}_df{}_fc{}_eb{}_{}_seed{}\".format(\n",
    "                CONFIG['task_name'],\n",
    "                CONFIG['model_id'],\n",
    "                CONFIG['model'],\n",
    "                CONFIG['data'],\n",
    "                CONFIG['batch_size'],\n",
    "                CONFIG['seq_len'],\n",
    "                CONFIG['learning_rate'],\n",
    "                CONFIG['pred_len'],\n",
    "                CONFIG['d_model'],\n",
    "                CONFIG['n_heads'],\n",
    "                CONFIG['e_layers'],\n",
    "                CONFIG['d_ff'],\n",
    "                CONFIG['factor'],\n",
    "                CONFIG['embed'],\n",
    "                CONFIG['des'],\n",
    "                CONFIG['seed'],\n",
    "            )\n",
    "\n",
    "model1 = Exp_Classification(CONFIG)\n",
    "model2 = Exp_Classification(CONFIG)\n",
    "model3 = Exp_Classification(CONFIG)\n",
    "model4 = Exp_Classification(CONFIG)\n",
    "model5 = Exp_Classification(CONFIG)"
   ]
  },
  {
   "cell_type": "code",
   "execution_count": 11,
   "metadata": {},
   "outputs": [],
   "source": [
    "model_path1 = \"./checkpoints/classification_ESB01_Medformer_K-Medicon_bs4_sl96_lr0.0001_pl96_dm128_nh8_el6_df256_fc1_ebtimeF_Exp_seed41/checkpoint.pth\"\n",
    "model_path2 = \"./checkpoints/classification_ESB01_Medformer_K-Medicon_bs4_sl2500_lr0.0001_pl0_dm128_nh8_el6_df256_fc1_ebtimeF_Exp_seed42/checkpoint.pth\"\n",
    "model_path3 = \"./checkpoints/classification_ESB01_Medformer_K-Medicon_bs4_sl2500_lr0.0001_pl0_dm128_nh8_el6_df256_fc1_ebtimeF_Exp_seed43/checkpoint.pth\"\n",
    "model_path4 = \"./checkpoints/classification_ESB01_Medformer_K-Medicon_bs4_sl2500_lr0.0001_pl0_dm128_nh8_el6_df256_fc1_ebtimeF_Exp_seed44/checkpoint.pth\"\n",
    "model_path5 = \"./checkpoints/classification_ESB01_Medformer_K-Medicon_bs4_sl2500_lr0.0001_pl0_dm128_nh8_el6_df256_fc1_ebtimeF_Exp_seed45/checkpoint.pth\"\n",
    "\n",
    "model1.swa_model.load_state_dict(torch.load(model_path1))\n",
    "model2.swa_model.load_state_dict(torch.load(model_path2))\n",
    "model3.swa_model.load_state_dict(torch.load(model_path3))\n",
    "model4.swa_model.load_state_dict(torch.load(model_path4))\n",
    "model5.swa_model.load_state_dict(torch.load(model_path5))\n",
    "\n",
    "model1.swa_model.to(device='cuda:0')\n",
    "model2.swa_model.to(device='cuda:0')\n",
    "model3.swa_model.to(device='cuda:0')\n",
    "model4.swa_model.to(device='cuda:0')\n",
    "model5.swa_model.to(device='cuda:0')\n",
    "\n",
    "models = [model1.swa_model, model2.swa_model, model3.swa_model, model4.swa_model, model5.swa_model]"
   ]
  }
 ],
 "metadata": {
  "kernelspec": {
   "display_name": "rtfact",
   "language": "python",
   "name": "python3"
  },
  "language_info": {
   "codemirror_mode": {
    "name": "ipython",
    "version": 3
   },
   "file_extension": ".py",
   "mimetype": "text/x-python",
   "name": "python",
   "nbconvert_exporter": "python",
   "pygments_lexer": "ipython3",
   "version": "3.8.20"
  }
 },
 "nbformat": 4,
 "nbformat_minor": 2
}
